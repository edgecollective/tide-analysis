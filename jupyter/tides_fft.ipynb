{
 "cells": [
  {
   "cell_type": "code",
   "execution_count": 1,
   "metadata": {},
   "outputs": [],
   "source": [
    "import pandas as pd\n",
    "import numpy as np\n",
    "import scipy as sp\n",
    "import scipy.fftpack\n",
    "import datetime"
   ]
  },
  {
   "cell_type": "code",
   "execution_count": 2,
   "metadata": {},
   "outputs": [
    {
     "name": "stdout",
     "output_type": "stream",
     "text": [
      "download took:  3.8697216510772705  seconds\n"
     ]
    }
   ],
   "source": [
    "import time\n",
    "\n",
    "feed_a_pubkey = \"xygzemcr5jcw\" # modify this to match a public key on belfast.pvos.org\n",
    "\n",
    "base_url = \"http://belfast.pvos.org/data/\"\n",
    "#df = pd.read_csv(base_url+feed_a_pubkey+\"/csv/\")\n",
    "\n",
    "start = time.time()\n",
    "df = pd.read_csv(base_url+feed_a_pubkey+\"/csv/\", index_col='timestamp', parse_dates=True)\n",
    "end = time.time()\n",
    "\n",
    "print(\"download took: \", end-start, \" seconds\")\n"
   ]
  },
  {
   "cell_type": "code",
   "execution_count": 3,
   "metadata": {},
   "outputs": [
    {
     "data": {
      "text/html": [
       "<div>\n",
       "<style scoped>\n",
       "    .dataframe tbody tr th:only-of-type {\n",
       "        vertical-align: middle;\n",
       "    }\n",
       "\n",
       "    .dataframe tbody tr th {\n",
       "        vertical-align: top;\n",
       "    }\n",
       "\n",
       "    .dataframe thead th {\n",
       "        text-align: right;\n",
       "    }\n",
       "</style>\n",
       "<table border=\"1\" class=\"dataframe\">\n",
       "  <thead>\n",
       "    <tr style=\"text-align: right;\">\n",
       "      <th></th>\n",
       "      <th>id</th>\n",
       "      <th>feed_id</th>\n",
       "      <th>temperature_c</th>\n",
       "      <th>humidity_rh</th>\n",
       "      <th>distance_meters</th>\n",
       "      <th>pressure_mbar</th>\n",
       "      <th>battery_volts</th>\n",
       "      <th>gps_lat</th>\n",
       "      <th>gps_lon</th>\n",
       "      <th>gps_alt</th>\n",
       "      <th>...</th>\n",
       "      <th>voltage_1</th>\n",
       "      <th>voltage_2</th>\n",
       "      <th>voltage_3</th>\n",
       "      <th>aux_1</th>\n",
       "      <th>aux_2</th>\n",
       "      <th>aux_3</th>\n",
       "      <th>log</th>\n",
       "      <th>rssi</th>\n",
       "      <th>node_id</th>\n",
       "      <th>node_name</th>\n",
       "    </tr>\n",
       "    <tr>\n",
       "      <th>timestamp</th>\n",
       "      <th></th>\n",
       "      <th></th>\n",
       "      <th></th>\n",
       "      <th></th>\n",
       "      <th></th>\n",
       "      <th></th>\n",
       "      <th></th>\n",
       "      <th></th>\n",
       "      <th></th>\n",
       "      <th></th>\n",
       "      <th></th>\n",
       "      <th></th>\n",
       "      <th></th>\n",
       "      <th></th>\n",
       "      <th></th>\n",
       "      <th></th>\n",
       "      <th></th>\n",
       "      <th></th>\n",
       "      <th></th>\n",
       "      <th></th>\n",
       "      <th></th>\n",
       "    </tr>\n",
       "  </thead>\n",
       "  <tbody>\n",
       "    <tr>\n",
       "      <th>2021-02-24 17:27:08.290600</th>\n",
       "      <td>9</td>\n",
       "      <td>3</td>\n",
       "      <td>NaN</td>\n",
       "      <td>NaN</td>\n",
       "      <td>19.0</td>\n",
       "      <td>NaN</td>\n",
       "      <td>NaN</td>\n",
       "      <td>NaN</td>\n",
       "      <td>NaN</td>\n",
       "      <td>NaN</td>\n",
       "      <td>...</td>\n",
       "      <td>NaN</td>\n",
       "      <td>NaN</td>\n",
       "      <td>NaN</td>\n",
       "      <td>NaN</td>\n",
       "      <td>NaN</td>\n",
       "      <td>NaN</td>\n",
       "      <td>NaN</td>\n",
       "      <td>NaN</td>\n",
       "      <td>NaN</td>\n",
       "      <td>NaN</td>\n",
       "    </tr>\n",
       "    <tr>\n",
       "      <th>2021-02-24 17:27:19.845229</th>\n",
       "      <td>10</td>\n",
       "      <td>3</td>\n",
       "      <td>NaN</td>\n",
       "      <td>NaN</td>\n",
       "      <td>20.0</td>\n",
       "      <td>NaN</td>\n",
       "      <td>NaN</td>\n",
       "      <td>NaN</td>\n",
       "      <td>NaN</td>\n",
       "      <td>NaN</td>\n",
       "      <td>...</td>\n",
       "      <td>NaN</td>\n",
       "      <td>NaN</td>\n",
       "      <td>NaN</td>\n",
       "      <td>NaN</td>\n",
       "      <td>NaN</td>\n",
       "      <td>NaN</td>\n",
       "      <td>NaN</td>\n",
       "      <td>NaN</td>\n",
       "      <td>NaN</td>\n",
       "      <td>NaN</td>\n",
       "    </tr>\n",
       "    <tr>\n",
       "      <th>2021-02-24 17:27:24.974007</th>\n",
       "      <td>11</td>\n",
       "      <td>3</td>\n",
       "      <td>NaN</td>\n",
       "      <td>NaN</td>\n",
       "      <td>15.0</td>\n",
       "      <td>NaN</td>\n",
       "      <td>NaN</td>\n",
       "      <td>NaN</td>\n",
       "      <td>NaN</td>\n",
       "      <td>NaN</td>\n",
       "      <td>...</td>\n",
       "      <td>NaN</td>\n",
       "      <td>NaN</td>\n",
       "      <td>NaN</td>\n",
       "      <td>NaN</td>\n",
       "      <td>NaN</td>\n",
       "      <td>NaN</td>\n",
       "      <td>NaN</td>\n",
       "      <td>NaN</td>\n",
       "      <td>NaN</td>\n",
       "      <td>NaN</td>\n",
       "    </tr>\n",
       "    <tr>\n",
       "      <th>2021-02-24 17:27:30.105965</th>\n",
       "      <td>12</td>\n",
       "      <td>3</td>\n",
       "      <td>NaN</td>\n",
       "      <td>NaN</td>\n",
       "      <td>16.0</td>\n",
       "      <td>NaN</td>\n",
       "      <td>NaN</td>\n",
       "      <td>NaN</td>\n",
       "      <td>NaN</td>\n",
       "      <td>NaN</td>\n",
       "      <td>...</td>\n",
       "      <td>NaN</td>\n",
       "      <td>NaN</td>\n",
       "      <td>NaN</td>\n",
       "      <td>NaN</td>\n",
       "      <td>NaN</td>\n",
       "      <td>NaN</td>\n",
       "      <td>NaN</td>\n",
       "      <td>NaN</td>\n",
       "      <td>NaN</td>\n",
       "      <td>NaN</td>\n",
       "    </tr>\n",
       "    <tr>\n",
       "      <th>2021-02-24 17:27:35.245508</th>\n",
       "      <td>13</td>\n",
       "      <td>3</td>\n",
       "      <td>NaN</td>\n",
       "      <td>NaN</td>\n",
       "      <td>20.0</td>\n",
       "      <td>NaN</td>\n",
       "      <td>NaN</td>\n",
       "      <td>NaN</td>\n",
       "      <td>NaN</td>\n",
       "      <td>NaN</td>\n",
       "      <td>...</td>\n",
       "      <td>NaN</td>\n",
       "      <td>NaN</td>\n",
       "      <td>NaN</td>\n",
       "      <td>NaN</td>\n",
       "      <td>NaN</td>\n",
       "      <td>NaN</td>\n",
       "      <td>NaN</td>\n",
       "      <td>NaN</td>\n",
       "      <td>NaN</td>\n",
       "      <td>NaN</td>\n",
       "    </tr>\n",
       "    <tr>\n",
       "      <th>...</th>\n",
       "      <td>...</td>\n",
       "      <td>...</td>\n",
       "      <td>...</td>\n",
       "      <td>...</td>\n",
       "      <td>...</td>\n",
       "      <td>...</td>\n",
       "      <td>...</td>\n",
       "      <td>...</td>\n",
       "      <td>...</td>\n",
       "      <td>...</td>\n",
       "      <td>...</td>\n",
       "      <td>...</td>\n",
       "      <td>...</td>\n",
       "      <td>...</td>\n",
       "      <td>...</td>\n",
       "      <td>...</td>\n",
       "      <td>...</td>\n",
       "      <td>...</td>\n",
       "      <td>...</td>\n",
       "      <td>...</td>\n",
       "      <td>...</td>\n",
       "    </tr>\n",
       "    <tr>\n",
       "      <th>2021-05-25 18:01:07.317937</th>\n",
       "      <td>895771</td>\n",
       "      <td>3</td>\n",
       "      <td>NaN</td>\n",
       "      <td>NaN</td>\n",
       "      <td>1480.0</td>\n",
       "      <td>NaN</td>\n",
       "      <td>NaN</td>\n",
       "      <td>NaN</td>\n",
       "      <td>NaN</td>\n",
       "      <td>NaN</td>\n",
       "      <td>...</td>\n",
       "      <td>NaN</td>\n",
       "      <td>NaN</td>\n",
       "      <td>NaN</td>\n",
       "      <td>1.0</td>\n",
       "      <td>62.0</td>\n",
       "      <td>-61.0</td>\n",
       "      <td>NaN</td>\n",
       "      <td>NaN</td>\n",
       "      <td>NaN</td>\n",
       "      <td>NaN</td>\n",
       "    </tr>\n",
       "    <tr>\n",
       "      <th>2021-05-25 18:01:07.499324</th>\n",
       "      <td>895772</td>\n",
       "      <td>3</td>\n",
       "      <td>NaN</td>\n",
       "      <td>NaN</td>\n",
       "      <td>1480.0</td>\n",
       "      <td>NaN</td>\n",
       "      <td>NaN</td>\n",
       "      <td>NaN</td>\n",
       "      <td>NaN</td>\n",
       "      <td>NaN</td>\n",
       "      <td>...</td>\n",
       "      <td>NaN</td>\n",
       "      <td>NaN</td>\n",
       "      <td>NaN</td>\n",
       "      <td>1.0</td>\n",
       "      <td>63.0</td>\n",
       "      <td>-61.0</td>\n",
       "      <td>NaN</td>\n",
       "      <td>NaN</td>\n",
       "      <td>NaN</td>\n",
       "      <td>NaN</td>\n",
       "    </tr>\n",
       "    <tr>\n",
       "      <th>2021-05-25 18:01:07.679082</th>\n",
       "      <td>895773</td>\n",
       "      <td>3</td>\n",
       "      <td>NaN</td>\n",
       "      <td>NaN</td>\n",
       "      <td>1480.0</td>\n",
       "      <td>NaN</td>\n",
       "      <td>NaN</td>\n",
       "      <td>NaN</td>\n",
       "      <td>NaN</td>\n",
       "      <td>NaN</td>\n",
       "      <td>...</td>\n",
       "      <td>NaN</td>\n",
       "      <td>NaN</td>\n",
       "      <td>NaN</td>\n",
       "      <td>1.0</td>\n",
       "      <td>64.0</td>\n",
       "      <td>-63.0</td>\n",
       "      <td>NaN</td>\n",
       "      <td>NaN</td>\n",
       "      <td>NaN</td>\n",
       "      <td>NaN</td>\n",
       "    </tr>\n",
       "    <tr>\n",
       "      <th>2021-05-25 18:01:07.860273</th>\n",
       "      <td>895774</td>\n",
       "      <td>3</td>\n",
       "      <td>NaN</td>\n",
       "      <td>NaN</td>\n",
       "      <td>1479.0</td>\n",
       "      <td>NaN</td>\n",
       "      <td>NaN</td>\n",
       "      <td>NaN</td>\n",
       "      <td>NaN</td>\n",
       "      <td>NaN</td>\n",
       "      <td>...</td>\n",
       "      <td>NaN</td>\n",
       "      <td>NaN</td>\n",
       "      <td>NaN</td>\n",
       "      <td>1.0</td>\n",
       "      <td>65.0</td>\n",
       "      <td>-61.0</td>\n",
       "      <td>NaN</td>\n",
       "      <td>NaN</td>\n",
       "      <td>NaN</td>\n",
       "      <td>NaN</td>\n",
       "    </tr>\n",
       "    <tr>\n",
       "      <th>2021-05-25 18:01:08.040812</th>\n",
       "      <td>895775</td>\n",
       "      <td>3</td>\n",
       "      <td>NaN</td>\n",
       "      <td>NaN</td>\n",
       "      <td>1479.0</td>\n",
       "      <td>NaN</td>\n",
       "      <td>NaN</td>\n",
       "      <td>NaN</td>\n",
       "      <td>NaN</td>\n",
       "      <td>NaN</td>\n",
       "      <td>...</td>\n",
       "      <td>NaN</td>\n",
       "      <td>NaN</td>\n",
       "      <td>NaN</td>\n",
       "      <td>1.0</td>\n",
       "      <td>66.0</td>\n",
       "      <td>-61.0</td>\n",
       "      <td>NaN</td>\n",
       "      <td>NaN</td>\n",
       "      <td>NaN</td>\n",
       "      <td>NaN</td>\n",
       "    </tr>\n",
       "  </tbody>\n",
       "</table>\n",
       "<p>759800 rows × 26 columns</p>\n",
       "</div>"
      ],
      "text/plain": [
       "                                id  feed_id  temperature_c  humidity_rh  \\\n",
       "timestamp                                                                 \n",
       "2021-02-24 17:27:08.290600       9        3            NaN          NaN   \n",
       "2021-02-24 17:27:19.845229      10        3            NaN          NaN   \n",
       "2021-02-24 17:27:24.974007      11        3            NaN          NaN   \n",
       "2021-02-24 17:27:30.105965      12        3            NaN          NaN   \n",
       "2021-02-24 17:27:35.245508      13        3            NaN          NaN   \n",
       "...                            ...      ...            ...          ...   \n",
       "2021-05-25 18:01:07.317937  895771        3            NaN          NaN   \n",
       "2021-05-25 18:01:07.499324  895772        3            NaN          NaN   \n",
       "2021-05-25 18:01:07.679082  895773        3            NaN          NaN   \n",
       "2021-05-25 18:01:07.860273  895774        3            NaN          NaN   \n",
       "2021-05-25 18:01:08.040812  895775        3            NaN          NaN   \n",
       "\n",
       "                            distance_meters  pressure_mbar  battery_volts  \\\n",
       "timestamp                                                                   \n",
       "2021-02-24 17:27:08.290600             19.0            NaN            NaN   \n",
       "2021-02-24 17:27:19.845229             20.0            NaN            NaN   \n",
       "2021-02-24 17:27:24.974007             15.0            NaN            NaN   \n",
       "2021-02-24 17:27:30.105965             16.0            NaN            NaN   \n",
       "2021-02-24 17:27:35.245508             20.0            NaN            NaN   \n",
       "...                                     ...            ...            ...   \n",
       "2021-05-25 18:01:07.317937           1480.0            NaN            NaN   \n",
       "2021-05-25 18:01:07.499324           1480.0            NaN            NaN   \n",
       "2021-05-25 18:01:07.679082           1480.0            NaN            NaN   \n",
       "2021-05-25 18:01:07.860273           1479.0            NaN            NaN   \n",
       "2021-05-25 18:01:08.040812           1479.0            NaN            NaN   \n",
       "\n",
       "                            gps_lat  gps_lon  gps_alt  ...  voltage_1  \\\n",
       "timestamp                                              ...              \n",
       "2021-02-24 17:27:08.290600      NaN      NaN      NaN  ...        NaN   \n",
       "2021-02-24 17:27:19.845229      NaN      NaN      NaN  ...        NaN   \n",
       "2021-02-24 17:27:24.974007      NaN      NaN      NaN  ...        NaN   \n",
       "2021-02-24 17:27:30.105965      NaN      NaN      NaN  ...        NaN   \n",
       "2021-02-24 17:27:35.245508      NaN      NaN      NaN  ...        NaN   \n",
       "...                             ...      ...      ...  ...        ...   \n",
       "2021-05-25 18:01:07.317937      NaN      NaN      NaN  ...        NaN   \n",
       "2021-05-25 18:01:07.499324      NaN      NaN      NaN  ...        NaN   \n",
       "2021-05-25 18:01:07.679082      NaN      NaN      NaN  ...        NaN   \n",
       "2021-05-25 18:01:07.860273      NaN      NaN      NaN  ...        NaN   \n",
       "2021-05-25 18:01:08.040812      NaN      NaN      NaN  ...        NaN   \n",
       "\n",
       "                            voltage_2  voltage_3  aux_1  aux_2  aux_3  log  \\\n",
       "timestamp                                                                    \n",
       "2021-02-24 17:27:08.290600        NaN        NaN    NaN    NaN    NaN  NaN   \n",
       "2021-02-24 17:27:19.845229        NaN        NaN    NaN    NaN    NaN  NaN   \n",
       "2021-02-24 17:27:24.974007        NaN        NaN    NaN    NaN    NaN  NaN   \n",
       "2021-02-24 17:27:30.105965        NaN        NaN    NaN    NaN    NaN  NaN   \n",
       "2021-02-24 17:27:35.245508        NaN        NaN    NaN    NaN    NaN  NaN   \n",
       "...                               ...        ...    ...    ...    ...  ...   \n",
       "2021-05-25 18:01:07.317937        NaN        NaN    1.0   62.0  -61.0  NaN   \n",
       "2021-05-25 18:01:07.499324        NaN        NaN    1.0   63.0  -61.0  NaN   \n",
       "2021-05-25 18:01:07.679082        NaN        NaN    1.0   64.0  -63.0  NaN   \n",
       "2021-05-25 18:01:07.860273        NaN        NaN    1.0   65.0  -61.0  NaN   \n",
       "2021-05-25 18:01:08.040812        NaN        NaN    1.0   66.0  -61.0  NaN   \n",
       "\n",
       "                            rssi  node_id  node_name  \n",
       "timestamp                                             \n",
       "2021-02-24 17:27:08.290600   NaN      NaN        NaN  \n",
       "2021-02-24 17:27:19.845229   NaN      NaN        NaN  \n",
       "2021-02-24 17:27:24.974007   NaN      NaN        NaN  \n",
       "2021-02-24 17:27:30.105965   NaN      NaN        NaN  \n",
       "2021-02-24 17:27:35.245508   NaN      NaN        NaN  \n",
       "...                          ...      ...        ...  \n",
       "2021-05-25 18:01:07.317937   NaN      NaN        NaN  \n",
       "2021-05-25 18:01:07.499324   NaN      NaN        NaN  \n",
       "2021-05-25 18:01:07.679082   NaN      NaN        NaN  \n",
       "2021-05-25 18:01:07.860273   NaN      NaN        NaN  \n",
       "2021-05-25 18:01:08.040812   NaN      NaN        NaN  \n",
       "\n",
       "[759800 rows x 26 columns]"
      ]
     },
     "execution_count": 3,
     "metadata": {},
     "output_type": "execute_result"
    }
   ],
   "source": [
    "df"
   ]
  },
  {
   "cell_type": "markdown",
   "metadata": {},
   "source": [
    "## Every point (6 per sec)"
   ]
  },
  {
   "cell_type": "code",
   "execution_count": 39,
   "metadata": {},
   "outputs": [
    {
     "data": {
      "text/plain": [
       "(0.0, 6000.0)"
      ]
     },
     "execution_count": 39,
     "metadata": {},
     "output_type": "execute_result"
    },
    {
     "data": {
      "image/png": "[encoded data removed]",
      "text/plain": [
       "<Figure size 1080x360 with 1 Axes>"
      ]
     },
     "metadata": {
      "needs_background": "light"
     },
     "output_type": "display_data"
    }
   ],
   "source": [
    "#convert the timestamp to our timezone\n",
    "\n",
    "#create an index for the date range we'd like\n",
    "c0 = df.index.to_series().between('2021-5-19', '2021-5-20')\n",
    "\n",
    "#create a new dataframe using this index\n",
    "subset=df[c0]\n",
    "\n",
    "\n",
    "ax=subset.plot(y='distance_meters', style='.-',figsize=(15, 5), use_index=True,title=\"All points\")\n",
    "ax.set_ylim(0,6000)\n",
    "#num_rows = len(subset. index)\n",
    "#rows_per_sec=6\n",
    "#approx_hours=num_rows/rows_per_sec/(3600)\n",
    "#print(approx_hours)"
   ]
  },
  {
   "cell_type": "code",
   "execution_count": 46,
   "metadata": {},
   "outputs": [
    {
     "data": {
      "text/plain": [
       "<AxesSubplot:xlabel='timestamp'>"
      ]
     },
     "execution_count": 46,
     "metadata": {},
     "output_type": "execute_result"
    },
    {
     "data": {
      "image/png": "[encoded data removed]",
      "text/plain": [
       "<Figure size 432x288 with 1 Axes>"
      ]
     },
     "metadata": {
      "needs_background": "light"
     },
     "output_type": "display_data"
    }
   ],
   "source": [
    "tides=subset['distance_meters']\n",
    "tides.plot()"
   ]
  },
  {
   "cell_type": "code",
   "execution_count": 47,
   "metadata": {},
   "outputs": [
    {
     "data": {
      "text/plain": [
       "<AxesSubplot:xlabel='timestamp'>"
      ]
     },
     "execution_count": 47,
     "metadata": {},
     "output_type": "execute_result"
    },
    {
     "data": {
      "image/png": "[encoded data removed]",
      "text/plain": [
       "<Figure size 432x288 with 1 Axes>"
      ]
     },
     "metadata": {
      "needs_background": "light"
     },
     "output_type": "display_data"
    }
   ],
   "source": [
    "tides=tides[tides < 6000]\n",
    "tides=tides[tides > 2000]\n",
    "#tides=tides[tides >]\n",
    "#tides=tides.sub(tides.mean())\n",
    "tides.plot()"
   ]
  },
  {
   "cell_type": "code",
   "execution_count": 80,
   "metadata": {},
   "outputs": [
    {
     "data": {
      "text/plain": [
       "Text(0, 0.5, 'PSD (dB)')"
      ]
     },
     "execution_count": 80,
     "metadata": {},
     "output_type": "execute_result"
    },
    {
     "data": {
      "image/png": "[encoded data removed]",
      "text/plain": [
       "<Figure size 576x288 with 1 Axes>"
      ]
     },
     "metadata": {
      "needs_background": "light"
     },
     "output_type": "display_data"
    }
   ],
   "source": [
    "# See:  https://ipython-books.github.io/101-analyzing-the-frequency-components-of-a-signal-with-a-fast-fourier-transform/\n",
    "# And: https://www.usharbors.com/harbor/maine/belfast-me/tides/\n",
    "# And: https://www.ritchievink.com/blog/2017/04/23/understanding-the-fourier-transform-by-example/\n",
    "\n",
    "import matplotlib.pyplot as plt\n",
    "\n",
    "temp_fft = sp.fftpack.fft(tides.values)\n",
    "temp_psd = np.abs(temp_fft) ** 2\n",
    "\n",
    "# want freq unit in hours, i.e. freq of 1: 1 hour\n",
    "# original sampling rate is 6x/sec\n",
    "# 6x / sec is 6*60*60 x / hour\n",
    "\n",
    "timestep = 1/(6*60*60) #in hours\n",
    "fftfreq = sp.fftpack.fftfreq(len(temp_psd), timestep)\n",
    "i = fftfreq > 0\n",
    "\n",
    "fig, ax = plt.subplots(1, 1, figsize=(8, 4))\n",
    "ax.plot(fftfreq[i], 10 * np.log10(temp_psd[i]))\n",
    "#ax.set_xlim(0, 3000)\n",
    "ax.set_ylim(25,125)\n",
    "#ax.set_xlabel('Frequency (1/minutes)')\n",
    "ax.set_ylabel('PSD (dB)')"
   ]
  },
  {
   "cell_type": "code",
   "execution_count": 81,
   "metadata": {},
   "outputs": [
    {
     "data": {
      "text/plain": [
       "(-5.0, 110.0)"
      ]
     },
     "execution_count": 81,
     "metadata": {},
     "output_type": "execute_result"
    },
    {
     "data": {
      "image/png": "[encoded data removed]",
      "text/plain": [
       "<Figure size 432x288 with 1 Axes>"
      ]
     },
     "metadata": {
      "needs_background": "light"
     },
     "output_type": "display_data"
    }
   ],
   "source": [
    "# ref: https://www.oreilly.com/library/view/elegant-scipy/9781491922927/ch04.htmlfrom scipy import fftpack\n",
    "\n",
    "X = fftpack.fft()\n",
    "freqs = fftpack.fftfreq(len(x)) * f_s\n",
    "\n",
    "fig, ax = plt.subplots()\n",
    "\n",
    "ax.stem(freqs, np.abs(X))\n",
    "ax.set_xlabel('Frequency in Hertz [Hz]')\n",
    "ax.set_ylabel('Frequency Domain (Spectrum) Magnitude')\n",
    "ax.set_xlim(-f_s / 2, f_s / 2)\n",
    "ax.set_ylim(-5, 110)"
   ]
  },
  {
   "cell_type": "markdown",
   "metadata": {},
   "source": [
    "## Every 10 min"
   ]
  },
  {
   "cell_type": "code",
   "execution_count": 21,
   "metadata": {},
   "outputs": [
    {
     "data": {
      "text/plain": [
       "<AxesSubplot:title={'center':'Every 10 min'}, xlabel='timestamp'>"
      ]
     },
     "execution_count": 21,
     "metadata": {},
     "output_type": "execute_result"
    },
    {
     "data": {
      "image/png": "[encoded data removed]",
      "text/plain": [
       "<Figure size 1080x360 with 1 Axes>"
      ]
     },
     "metadata": {
      "needs_background": "light"
     },
     "output_type": "display_data"
    }
   ],
   "source": [
    "#convert the timestamp to our timezone\n",
    "\n",
    "#create an index for the date range we'd like\n",
    "c0 = df.index.to_series().between('2021-5-18 10:00', '2021-5-21')\n",
    "\n",
    "#create a new dataframe using this index\n",
    "subset=df[c0]\n",
    "n_skip = 360*10 # every 5 minutes, if data was sent 6x / sec\n",
    "subset = subset.iloc[::n_skip, :]\n",
    "\n",
    "subset.plot(y='distance_meters', style='.-',figsize=(15, 5), use_index=True,title=\"Every 10 min\")"
   ]
  },
  {
   "cell_type": "code",
   "execution_count": null,
   "metadata": {},
   "outputs": [],
   "source": []
  }
 ],
 "metadata": {
  "kernelspec": {
   "display_name": "Python 3",
   "language": "python",
   "name": "python3"
  },
  "language_info": {
   "codemirror_mode": {
    "name": "ipython",
    "version": 3
   },
   "file_extension": ".py",
   "mimetype": "text/x-python",
   "name": "python",
   "nbconvert_exporter": "python",
   "pygments_lexer": "ipython3",
   "version": "3.6.9"
  }
 },
 "nbformat": 4,
 "nbformat_minor": 4
}
