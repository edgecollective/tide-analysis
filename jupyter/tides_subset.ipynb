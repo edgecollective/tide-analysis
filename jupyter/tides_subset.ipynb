{
 "cells": [
  {
   "cell_type": "code",
   "execution_count": 2,
   "metadata": {},
   "outputs": [],
   "source": [
    "import pandas as pd\n",
    "import numpy as np\n",
    "import scipy as sp\n",
    "import scipy.fftpack\n",
    "import datetime\n",
    "import time"
   ]
  },
  {
   "cell_type": "markdown",
   "metadata": {},
   "source": [
    "## Import data from belfast.pvos.org"
   ]
  },
  {
   "cell_type": "code",
   "execution_count": 3,
   "metadata": {},
   "outputs": [
    {
     "name": "stdout",
     "output_type": "stream",
     "text": [
      "download took:  3.9784743785858154  seconds\n"
     ]
    }
   ],
   "source": [
    "\n",
    "feed_a_pubkey = \"xygzemcr5jcw\" # modify this to match a public key on belfast.pvos.org\n",
    "\n",
    "base_url = \"http://belfast.pvos.org/data/\"\n",
    "#df = pd.read_csv(base_url+feed_a_pubkey+\"/csv/\")\n",
    "\n",
    "start = time.time()\n",
    "df = pd.read_csv(base_url+feed_a_pubkey+\"/csv/\", index_col='timestamp', parse_dates=True)\n",
    "end = time.time()\n",
    "\n",
    "print(\"download took: \", end-start, \" seconds\")\n"
   ]
  },
  {
   "cell_type": "markdown",
   "metadata": {},
   "source": [
    "## Select time range, remove outliers"
   ]
  },
  {
   "cell_type": "code",
   "execution_count": 4,
   "metadata": {},
   "outputs": [],
   "source": [
    "\n",
    "#create an index for the date range we'd like\n",
    "c0 = df.index.to_series().between('2021-5-19', '2021-5-20')\n",
    "\n",
    "#create a new dataframe using this index\n",
    "subset=df[c0]\n",
    "\n",
    "#select just the 'distance_meters' variable\n",
    "tides=subset['distance_meters']\n",
    "\n",
    "#remove some outliers\n",
    "tides=tides[tides < 6000]\n",
    "tides=tides[tides > 2000]\n",
    "\n"
   ]
  },
  {
   "cell_type": "code",
   "execution_count": 5,
   "metadata": {},
   "outputs": [
    {
     "data": {
      "text/plain": [
       "timestamp\n",
       "2021-05-19 00:00:00.016527    3987.0\n",
       "2021-05-19 00:00:00.199632    3987.0\n",
       "2021-05-19 00:00:00.382033    3987.0\n",
       "2021-05-19 00:00:00.568542    3988.0\n",
       "2021-05-19 00:00:00.737174    3988.0\n",
       "                               ...  \n",
       "2021-05-19 23:59:58.753898    3438.0\n",
       "2021-05-19 23:59:58.832972    3438.0\n",
       "2021-05-19 23:59:58.912314    3438.0\n",
       "2021-05-19 23:59:58.991045    3438.0\n",
       "2021-05-19 23:59:59.070748    3437.0\n",
       "Name: distance_meters, Length: 465599, dtype: float64"
      ]
     },
     "execution_count": 5,
     "metadata": {},
     "output_type": "execute_result"
    }
   ],
   "source": [
    "tides"
   ]
  },
  {
   "cell_type": "markdown",
   "metadata": {},
   "source": [
    "## Plot"
   ]
  },
  {
   "cell_type": "code",
   "execution_count": 6,
   "metadata": {},
   "outputs": [
    {
     "data": {
      "text/plain": [
       "<AxesSubplot:title={'center':'ultrasonic distance vs time'}, xlabel='timestamp'>"
      ]
     },
     "execution_count": 6,
     "metadata": {},
     "output_type": "execute_result"
    },
    {
     "data": {
      "image/png": "[encoded data removed]",
      "text/plain": [
       "<Figure size 1080x360 with 1 Axes>"
      ]
     },
     "metadata": {
      "needs_background": "light"
     },
     "output_type": "display_data"
    }
   ],
   "source": [
    "tides.plot(style='.-',figsize=(15, 5),title='ultrasonic distance vs time')"
   ]
  },
  {
   "cell_type": "code",
   "execution_count": null,
   "metadata": {},
   "outputs": [],
   "source": []
  }
 ],
 "metadata": {
  "kernelspec": {
   "display_name": "Python 3",
   "language": "python",
   "name": "python3"
  },
  "language_info": {
   "codemirror_mode": {
    "name": "ipython",
    "version": 3
   },
   "file_extension": ".py",
   "mimetype": "text/x-python",
   "name": "python",
   "nbconvert_exporter": "python",
   "pygments_lexer": "ipython3",
   "version": "3.6.9"
  }
 },
 "nbformat": 4,
 "nbformat_minor": 4
}
