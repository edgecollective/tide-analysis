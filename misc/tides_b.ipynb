{
 "cells": [
  {
   "cell_type": "code",
   "execution_count": 176,
   "metadata": {},
   "outputs": [],
   "source": [
    "import pandas as pd"
   ]
  },
  {
   "cell_type": "code",
   "execution_count": 179,
   "metadata": {},
   "outputs": [
    {
     "data": {
      "text/html": [
       "<div>\n",
       "<style scoped>\n",
       "    .dataframe tbody tr th:only-of-type {\n",
       "        vertical-align: middle;\n",
       "    }\n",
       "\n",
       "    .dataframe tbody tr th {\n",
       "        vertical-align: top;\n",
       "    }\n",
       "\n",
       "    .dataframe thead th {\n",
       "        text-align: right;\n",
       "    }\n",
       "</style>\n",
       "<table border=\"1\" class=\"dataframe\">\n",
       "  <thead>\n",
       "    <tr style=\"text-align: right;\">\n",
       "      <th></th>\n",
       "      <th>feed_pubkey</th>\n",
       "      <th>feed_name</th>\n",
       "      <th>data</th>\n",
       "    </tr>\n",
       "  </thead>\n",
       "  <tbody>\n",
       "    <tr>\n",
       "      <th>0</th>\n",
       "      <td>xygzemcr5jcw</td>\n",
       "      <td>1</td>\n",
       "      <td>{'id': 391117, 'timestamp': '2021-05-19T07:41:...</td>\n",
       "    </tr>\n",
       "    <tr>\n",
       "      <th>1</th>\n",
       "      <td>xygzemcr5jcw</td>\n",
       "      <td>1</td>\n",
       "      <td>{'id': 391118, 'timestamp': '2021-05-19T07:41:...</td>\n",
       "    </tr>\n",
       "    <tr>\n",
       "      <th>2</th>\n",
       "      <td>xygzemcr5jcw</td>\n",
       "      <td>1</td>\n",
       "      <td>{'id': 391119, 'timestamp': '2021-05-19T07:41:...</td>\n",
       "    </tr>\n",
       "    <tr>\n",
       "      <th>3</th>\n",
       "      <td>xygzemcr5jcw</td>\n",
       "      <td>1</td>\n",
       "      <td>{'id': 391120, 'timestamp': '2021-05-19T07:41:...</td>\n",
       "    </tr>\n",
       "    <tr>\n",
       "      <th>4</th>\n",
       "      <td>xygzemcr5jcw</td>\n",
       "      <td>1</td>\n",
       "      <td>{'id': 391121, 'timestamp': '2021-05-19T07:41:...</td>\n",
       "    </tr>\n",
       "    <tr>\n",
       "      <th>...</th>\n",
       "      <td>...</td>\n",
       "      <td>...</td>\n",
       "      <td>...</td>\n",
       "    </tr>\n",
       "    <tr>\n",
       "      <th>99995</th>\n",
       "      <td>xygzemcr5jcw</td>\n",
       "      <td>1</td>\n",
       "      <td>{'id': 491114, 'timestamp': '2021-05-19T12:41:...</td>\n",
       "    </tr>\n",
       "    <tr>\n",
       "      <th>99996</th>\n",
       "      <td>xygzemcr5jcw</td>\n",
       "      <td>1</td>\n",
       "      <td>{'id': 491115, 'timestamp': '2021-05-19T12:41:...</td>\n",
       "    </tr>\n",
       "    <tr>\n",
       "      <th>99997</th>\n",
       "      <td>xygzemcr5jcw</td>\n",
       "      <td>1</td>\n",
       "      <td>{'id': 491116, 'timestamp': '2021-05-19T12:41:...</td>\n",
       "    </tr>\n",
       "    <tr>\n",
       "      <th>99998</th>\n",
       "      <td>xygzemcr5jcw</td>\n",
       "      <td>1</td>\n",
       "      <td>{'id': 491117, 'timestamp': '2021-05-19T12:41:...</td>\n",
       "    </tr>\n",
       "    <tr>\n",
       "      <th>99999</th>\n",
       "      <td>xygzemcr5jcw</td>\n",
       "      <td>1</td>\n",
       "      <td>{'id': 491118, 'timestamp': '2021-05-19T12:41:...</td>\n",
       "    </tr>\n",
       "  </tbody>\n",
       "</table>\n",
       "<p>100000 rows × 3 columns</p>\n",
       "</div>"
      ],
      "text/plain": [
       "        feed_pubkey  feed_name  \\\n",
       "0      xygzemcr5jcw          1   \n",
       "1      xygzemcr5jcw          1   \n",
       "2      xygzemcr5jcw          1   \n",
       "3      xygzemcr5jcw          1   \n",
       "4      xygzemcr5jcw          1   \n",
       "...             ...        ...   \n",
       "99995  xygzemcr5jcw          1   \n",
       "99996  xygzemcr5jcw          1   \n",
       "99997  xygzemcr5jcw          1   \n",
       "99998  xygzemcr5jcw          1   \n",
       "99999  xygzemcr5jcw          1   \n",
       "\n",
       "                                                    data  \n",
       "0      {'id': 391117, 'timestamp': '2021-05-19T07:41:...  \n",
       "1      {'id': 391118, 'timestamp': '2021-05-19T07:41:...  \n",
       "2      {'id': 391119, 'timestamp': '2021-05-19T07:41:...  \n",
       "3      {'id': 391120, 'timestamp': '2021-05-19T07:41:...  \n",
       "4      {'id': 391121, 'timestamp': '2021-05-19T07:41:...  \n",
       "...                                                  ...  \n",
       "99995  {'id': 491114, 'timestamp': '2021-05-19T12:41:...  \n",
       "99996  {'id': 491115, 'timestamp': '2021-05-19T12:41:...  \n",
       "99997  {'id': 491116, 'timestamp': '2021-05-19T12:41:...  \n",
       "99998  {'id': 491117, 'timestamp': '2021-05-19T12:41:...  \n",
       "99999  {'id': 491118, 'timestamp': '2021-05-19T12:41:...  \n",
       "\n",
       "[100000 rows x 3 columns]"
      ]
     },
     "execution_count": 179,
     "metadata": {},
     "output_type": "execute_result"
    }
   ],
   "source": [
    "feed_a_pubkey = \"xygzemcr5jcw\" # modify this to match a public key on belfast.pvos.org\n",
    "\n",
    "base_url = \"http://belfast.pvos.org/data/\"\n",
    "#df = pd.read_csv(base_url+feed_a_pubkey+\"/csv/\")\n",
    "#df = pd.read_csv(base_url+feed_a_pubkey+\"/csv/\", index_col='timestamp', parse_dates=True)\n",
    "df = pd.read_json(\"xygz.json\")\n",
    "df"
   ]
  },
  {
   "cell_type": "code",
   "execution_count": 172,
   "metadata": {
    "jupyter": {
     "source_hidden": true
    }
   },
   "outputs": [
    {
     "name": "stderr",
     "output_type": "stream",
     "text": [
      "/home/dwblair/.local/lib/python3.6/site-packages/ipykernel_launcher.py:5: FutureWarning: The default of the 'keep_tz' keyword in DatetimeIndex.to_series will change to True in a future release. You can set 'keep_tz=True' to obtain the future behaviour and silence this warning.\n",
      "  \"\"\"\n"
     ]
    }
   ],
   "source": [
    "#convert the timestamp to our timezone\n",
    "df=df.tz_convert('US/Eastern')\n",
    "\n",
    "#create an index for the date range we'd like\n",
    "c0 = df.index.to_series().between('2021-5-18 10:00', '2021-5-21')\n",
    "\n",
    "#create a new dataframe using this index\n",
    "subset=df[c0]"
   ]
  },
  {
   "cell_type": "code",
   "execution_count": 173,
   "metadata": {},
   "outputs": [
    {
     "data": {
      "text/plain": [
       "<matplotlib.axes._subplots.AxesSubplot at 0x7f616d1bc3c8>"
      ]
     },
     "execution_count": 173,
     "metadata": {},
     "output_type": "execute_result"
    },
    {
     "data": {
      "image/png": "[encoded data removed]",
      "text/plain": [
       "<Figure size 1080x720 with 1 Axes>"
      ]
     },
     "metadata": {},
     "output_type": "display_data"
    }
   ],
   "source": [
    "subset.plot(y='distance_meters', style='.-',use_index=True)"
   ]
  },
  {
   "cell_type": "code",
   "execution_count": null,
   "metadata": {},
   "outputs": [],
   "source": []
  }
 ],
 "metadata": {
  "kernelspec": {
   "display_name": "Python 3",
   "language": "python",
   "name": "python3"
  },
  "language_info": {
   "codemirror_mode": {
    "name": "ipython",
    "version": 3
   },
   "file_extension": ".py",
   "mimetype": "text/x-python",
   "name": "python",
   "nbconvert_exporter": "python",
   "pygments_lexer": "ipython3",
   "version": "3.6.9"
  }
 },
 "nbformat": 4,
 "nbformat_minor": 4
}
